{
 "cells": [
  {
   "cell_type": "markdown",
   "metadata": {},
   "source": [
    "# Import Libraries"
   ]
  },
  {
   "cell_type": "code",
   "execution_count": 1,
   "metadata": {},
   "outputs": [],
   "source": [
    "import numpy as np\n",
    "# import matplotlib.pyplot as plt\n",
    "# import seaborn as sns\n",
    "import another"
   ]
  },
  {
   "cell_type": "markdown",
   "metadata": {},
   "source": [
    "# About Income and Expense Account"
   ]
  },
  {
   "cell_type": "code",
   "execution_count": 2,
   "metadata": {},
   "outputs": [
    {
     "name": "stdout",
     "output_type": "stream",
     "text": [
      "\n",
      "ถ้าต้องการดูข้อมููลเกี่ยวกับบัญชีรายรับ-รายจ่าย กด 1 ถ้าไม่ต้องการกด 0\n",
      "\n"
     ]
    },
    {
     "name": "stdin",
     "output_type": "stream",
     "text": [
      "เลืือกหมายเลข:  1\n"
     ]
    },
    {
     "name": "stdout",
     "output_type": "stream",
     "text": [
      "\n",
      "การทำบัญชีรายรับ-รายจ่าย หมายถึง  การจดบันทึกรายการข้อมูลด้านการเงินของการปฏิบัติงาน ทั้งที่เกี่ยวกับรายการที่รับเข้ามาและรายการที่ต้องจ่ายออกไป เพื่อให้มีข้อมูลที่เกี่ยวข้องทางด้านการเงิน ตลอดจนผลของการดำเนินงานนั้นไว้ว่าคงเหลือเงินหรือไม่ จำนวนเท่าไร  และเปรียบเทียบผลการดำเนินกิจการว่าได้กำไร หรือขาดทุนเพียงไร\n"
     ]
    }
   ],
   "source": [
    "another.information()"
   ]
  },
  {
   "cell_type": "markdown",
   "metadata": {},
   "source": [
    "# Instruction"
   ]
  },
  {
   "cell_type": "code",
   "execution_count": 3,
   "metadata": {},
   "outputs": [
    {
     "name": "stdout",
     "output_type": "stream",
     "text": [
      "\n",
      "\tHow to use this program\n",
      "\n",
      "Please fill out information in baht\n",
      "\n"
     ]
    }
   ],
   "source": [
    "another.instruction()"
   ]
  },
  {
   "cell_type": "markdown",
   "metadata": {},
   "source": [
    "# Member"
   ]
  },
  {
   "cell_type": "code",
   "execution_count": 4,
   "metadata": {},
   "outputs": [],
   "source": [
    "x = open('members.txt','w')\n",
    "x.write('Waranthorn Chansawang')\n",
    "x.close()"
   ]
  },
  {
   "cell_type": "markdown",
   "metadata": {},
   "source": [
    "# Month List"
   ]
  },
  {
   "cell_type": "code",
   "execution_count": 5,
   "metadata": {},
   "outputs": [],
   "source": [
    "jan_list = []\n",
    "feb_list = []\n",
    "mar_list = []\n",
    "apr_list = []\n",
    "may_list = []\n",
    "jun_list = []\n",
    "jul_list = []\n",
    "aug_list = []\n",
    "sep_list = []\n",
    "oct_list = []\n",
    "nov_list = []\n",
    "dec_list = []"
   ]
  },
  {
   "cell_type": "markdown",
   "metadata": {},
   "source": [
    "# Class"
   ]
  },
  {
   "cell_type": "code",
   "execution_count": 6,
   "metadata": {},
   "outputs": [],
   "source": [
    "class AllFunction:\n",
    "    def __init__(self, month_list):\n",
    "        self.month = month_list\n",
    " \n",
    "# Total Function\n",
    "    def func_total(month_list):\n",
    "        income_list = []\n",
    "        while True:\n",
    "            income = float(input('รายรับ: '))\n",
    "            income_list.append(income)\n",
    "            if income == 0:\n",
    "                break\n",
    "        print('รายรับทั้งหมด',sum(income_list), 'บาท')\n",
    "        month_list.append(sum(income_list))\n",
    "   \n",
    "        expense_list = []\n",
    "        while True:\n",
    "            expense = float(input('รายจ่าย: '))\n",
    "            expense_list.append(expense)\n",
    "            if expense == 0:\n",
    "                break\n",
    "        print('รายจ่ายทั้งหมด' ,sum(expense_list), 'บาท')\n",
    "        ans = np.subtract(sum(month_list), sum(expense_list))\n",
    "        \n",
    "        print('คงเหลือ', ans, 'บาท')\n",
    "        return ans"
   ]
  },
  {
   "cell_type": "code",
   "execution_count": 7,
   "metadata": {},
   "outputs": [
    {
     "name": "stdout",
     "output_type": "stream",
     "text": [
      "Jan\n"
     ]
    },
    {
     "name": "stdin",
     "output_type": "stream",
     "text": [
      "รายรับ:  100\n",
      "รายรับ:  0\n"
     ]
    },
    {
     "name": "stdout",
     "output_type": "stream",
     "text": [
      "รายรับทั้งหมด 100.0 บาท\n"
     ]
    },
    {
     "name": "stdin",
     "output_type": "stream",
     "text": [
      "รายจ่าย:  20\n",
      "รายจ่าย:  0\n"
     ]
    },
    {
     "name": "stdout",
     "output_type": "stream",
     "text": [
      "รายจ่ายทั้งหมด 20.0 บาท\n",
      "คงเหลือ 80.0 บาท\n",
      "\n",
      "Feb\n"
     ]
    },
    {
     "name": "stdin",
     "output_type": "stream",
     "text": [
      "รายรับ:  100\n",
      "รายรับ:  0\n"
     ]
    },
    {
     "name": "stdout",
     "output_type": "stream",
     "text": [
      "รายรับทั้งหมด 100.0 บาท\n"
     ]
    },
    {
     "name": "stdin",
     "output_type": "stream",
     "text": [
      "รายจ่าย:  30\n",
      "รายจ่าย:  0\n"
     ]
    },
    {
     "name": "stdout",
     "output_type": "stream",
     "text": [
      "รายจ่ายทั้งหมด 30.0 บาท\n",
      "คงเหลือ 70.0 บาท\n",
      "\n",
      "Mar\n"
     ]
    },
    {
     "name": "stdin",
     "output_type": "stream",
     "text": [
      "รายรับ:  100\n",
      "รายรับ:  0\n"
     ]
    },
    {
     "name": "stdout",
     "output_type": "stream",
     "text": [
      "รายรับทั้งหมด 100.0 บาท\n"
     ]
    },
    {
     "name": "stdin",
     "output_type": "stream",
     "text": [
      "รายจ่าย:  10\n",
      "รายจ่าย:  0\n"
     ]
    },
    {
     "name": "stdout",
     "output_type": "stream",
     "text": [
      "รายจ่ายทั้งหมด 10.0 บาท\n",
      "คงเหลือ 90.0 บาท\n",
      "\n",
      "Apr\n"
     ]
    },
    {
     "name": "stdin",
     "output_type": "stream",
     "text": [
      "รายรับ:  100\n",
      "รายรับ:  0\n"
     ]
    },
    {
     "name": "stdout",
     "output_type": "stream",
     "text": [
      "รายรับทั้งหมด 100.0 บาท\n"
     ]
    },
    {
     "name": "stdin",
     "output_type": "stream",
     "text": [
      "รายจ่าย:  40\n",
      "รายจ่าย:  0\n"
     ]
    },
    {
     "name": "stdout",
     "output_type": "stream",
     "text": [
      "รายจ่ายทั้งหมด 40.0 บาท\n",
      "คงเหลือ 60.0 บาท\n",
      "\n",
      "May\n"
     ]
    },
    {
     "name": "stdin",
     "output_type": "stream",
     "text": [
      "รายรับ:  100\n",
      "รายรับ:  0\n"
     ]
    },
    {
     "name": "stdout",
     "output_type": "stream",
     "text": [
      "รายรับทั้งหมด 100.0 บาท\n"
     ]
    },
    {
     "name": "stdin",
     "output_type": "stream",
     "text": [
      "รายจ่าย:  50\n",
      "รายจ่าย:  0\n"
     ]
    },
    {
     "name": "stdout",
     "output_type": "stream",
     "text": [
      "รายจ่ายทั้งหมด 50.0 บาท\n",
      "คงเหลือ 50.0 บาท\n",
      "\n",
      "Jun\n"
     ]
    },
    {
     "name": "stdin",
     "output_type": "stream",
     "text": [
      "รายรับ:  100\n",
      "รายรับ:  0\n"
     ]
    },
    {
     "name": "stdout",
     "output_type": "stream",
     "text": [
      "รายรับทั้งหมด 100.0 บาท\n"
     ]
    },
    {
     "name": "stdin",
     "output_type": "stream",
     "text": [
      "รายจ่าย:  20\n",
      "รายจ่าย:  0\n"
     ]
    },
    {
     "name": "stdout",
     "output_type": "stream",
     "text": [
      "รายจ่ายทั้งหมด 20.0 บาท\n",
      "คงเหลือ 80.0 บาท\n",
      "\n",
      "Jul\n"
     ]
    },
    {
     "name": "stdin",
     "output_type": "stream",
     "text": [
      "รายรับ:  100\n",
      "รายรับ:  0\n"
     ]
    },
    {
     "name": "stdout",
     "output_type": "stream",
     "text": [
      "รายรับทั้งหมด 100.0 บาท\n"
     ]
    },
    {
     "name": "stdin",
     "output_type": "stream",
     "text": [
      "รายจ่าย:  10\n",
      "รายจ่าย:  0\n"
     ]
    },
    {
     "name": "stdout",
     "output_type": "stream",
     "text": [
      "รายจ่ายทั้งหมด 10.0 บาท\n",
      "คงเหลือ 90.0 บาท\n",
      "\n",
      "Aug\n"
     ]
    },
    {
     "name": "stdin",
     "output_type": "stream",
     "text": [
      "รายรับ:  100'\n"
     ]
    },
    {
     "ename": "ValueError",
     "evalue": "could not convert string to float: \"100'\"",
     "output_type": "error",
     "traceback": [
      "\u001b[0;31m---------------------------------------------------------------------------\u001b[0m",
      "\u001b[0;31mValueError\u001b[0m                                Traceback (most recent call last)",
      "\u001b[0;32m<ipython-input-7-1f4e75673c62>\u001b[0m in \u001b[0;36m<module>\u001b[0;34m\u001b[0m\n\u001b[1;32m     21\u001b[0m \u001b[0mprint\u001b[0m\u001b[0;34m(\u001b[0m\u001b[0;34m''\u001b[0m\u001b[0;34m)\u001b[0m\u001b[0;34m\u001b[0m\u001b[0;34m\u001b[0m\u001b[0m\n\u001b[1;32m     22\u001b[0m \u001b[0mprint\u001b[0m\u001b[0;34m(\u001b[0m\u001b[0;34m'Aug'\u001b[0m\u001b[0;34m)\u001b[0m\u001b[0;34m\u001b[0m\u001b[0;34m\u001b[0m\u001b[0m\n\u001b[0;32m---> 23\u001b[0;31m \u001b[0maug_total\u001b[0m \u001b[0;34m=\u001b[0m \u001b[0mAllFunction\u001b[0m\u001b[0;34m.\u001b[0m\u001b[0mfunc_total\u001b[0m\u001b[0;34m(\u001b[0m\u001b[0maug_list\u001b[0m\u001b[0;34m)\u001b[0m\u001b[0;34m\u001b[0m\u001b[0;34m\u001b[0m\u001b[0m\n\u001b[0m\u001b[1;32m     24\u001b[0m \u001b[0mprint\u001b[0m\u001b[0;34m(\u001b[0m\u001b[0;34m''\u001b[0m\u001b[0;34m)\u001b[0m\u001b[0;34m\u001b[0m\u001b[0;34m\u001b[0m\u001b[0m\n\u001b[1;32m     25\u001b[0m \u001b[0mprint\u001b[0m\u001b[0;34m(\u001b[0m\u001b[0;34m'Sep'\u001b[0m\u001b[0;34m)\u001b[0m\u001b[0;34m\u001b[0m\u001b[0;34m\u001b[0m\u001b[0m\n",
      "\u001b[0;32m<ipython-input-6-e17a1461095a>\u001b[0m in \u001b[0;36mfunc_total\u001b[0;34m(month_list)\u001b[0m\n\u001b[1;32m      7\u001b[0m         \u001b[0mincome_list\u001b[0m \u001b[0;34m=\u001b[0m \u001b[0;34m[\u001b[0m\u001b[0;34m]\u001b[0m\u001b[0;34m\u001b[0m\u001b[0;34m\u001b[0m\u001b[0m\n\u001b[1;32m      8\u001b[0m         \u001b[0;32mwhile\u001b[0m \u001b[0;32mTrue\u001b[0m\u001b[0;34m:\u001b[0m\u001b[0;34m\u001b[0m\u001b[0;34m\u001b[0m\u001b[0m\n\u001b[0;32m----> 9\u001b[0;31m             \u001b[0mincome\u001b[0m \u001b[0;34m=\u001b[0m \u001b[0mfloat\u001b[0m\u001b[0;34m(\u001b[0m\u001b[0minput\u001b[0m\u001b[0;34m(\u001b[0m\u001b[0;34m'รายรับ: '\u001b[0m\u001b[0;34m)\u001b[0m\u001b[0;34m)\u001b[0m\u001b[0;34m\u001b[0m\u001b[0;34m\u001b[0m\u001b[0m\n\u001b[0m\u001b[1;32m     10\u001b[0m             \u001b[0mincome_list\u001b[0m\u001b[0;34m.\u001b[0m\u001b[0mappend\u001b[0m\u001b[0;34m(\u001b[0m\u001b[0mincome\u001b[0m\u001b[0;34m)\u001b[0m\u001b[0;34m\u001b[0m\u001b[0;34m\u001b[0m\u001b[0m\n\u001b[1;32m     11\u001b[0m             \u001b[0;32mif\u001b[0m \u001b[0mincome\u001b[0m \u001b[0;34m==\u001b[0m \u001b[0;36m0\u001b[0m\u001b[0;34m:\u001b[0m\u001b[0;34m\u001b[0m\u001b[0;34m\u001b[0m\u001b[0m\n",
      "\u001b[0;31mValueError\u001b[0m: could not convert string to float: \"100'\""
     ]
    }
   ],
   "source": [
    "print('Jan')\n",
    "jan_total = AllFunction.func_total(jan_list)\n",
    "print('')\n",
    "print('Feb')\n",
    "feb_total = AllFunction.func_total(feb_list)\n",
    "print('')\n",
    "print('Mar')\n",
    "mar_total = AllFunction.func_total(mar_list)\n",
    "print('')\n",
    "print('Apr')\n",
    "apr_total = AllFunction.func_total(apr_list)\n",
    "print('')\n",
    "print('May')\n",
    "may_total = AllFunction.func_total(may_list)\n",
    "print('')\n",
    "print('Jun')\n",
    "jun_total = AllFunction.func_total(jun_list)\n",
    "print('')\n",
    "print('Jul')\n",
    "jul_total = AllFunction.func_total(jul_list)\n",
    "print('')\n",
    "print('Aug')\n",
    "aug_total = AllFunction.func_total(aug_list)\n",
    "print('')\n",
    "print('Sep')\n",
    "sep_total = AllFunction.func_total(sep_list)\n",
    "print('')\n",
    "print('Oct')\n",
    "oct_total = AllFunction.func_total(oct_list)\n",
    "print('')\n",
    "print('Nov')\n",
    "nov_total = AllFunction.func_total(nov_list)\n",
    "print('')\n",
    "print('Dec')\n",
    "dec_total = AllFunction.func_total(dec_list)"
   ]
  },
  {
   "cell_type": "code",
   "execution_count": null,
   "metadata": {},
   "outputs": [],
   "source": [
    "month_name = ['Jan', 'Feb', 'Mar', 'Apr', 'May', 'Jun', 'Jul',' Aug', 'Sep', 'Oct', 'Nov', 'Dec']"
   ]
  },
  {
   "cell_type": "code",
   "execution_count": null,
   "metadata": {},
   "outputs": [],
   "source": [
    "all_total = [jan_total, feb_total, mar_total, apr_total, may_total, jun_total, jul_total, aug_total, sep_total, oct_total, nov_total, dec_total]"
   ]
  },
  {
   "cell_type": "code",
   "execution_count": null,
   "metadata": {},
   "outputs": [],
   "source": [
    "#print(all_total)"
   ]
  },
  {
   "cell_type": "markdown",
   "metadata": {},
   "source": [
    "# Data Visualization"
   ]
  },
  {
   "cell_type": "code",
   "execution_count": null,
   "metadata": {},
   "outputs": [],
   "source": [
    "# def data_visualization(x_list, y_list):\n",
    "#     sns.set(style=\"white\", rc={\"lines.linewidth\": 3})\n",
    "#     fig, ax1 = plt.subplots(figsize=(10,10))\n",
    "#     ax2 = ax1.twinx()\n",
    "#     sns.barplot(x=x_list,\n",
    "#                 y=y_list, \n",
    "#                 color='#004488',\n",
    "#                 ax=ax1)\n",
    "#     sns.lineplot(x=x_list, \n",
    "#                  y=y_list,\n",
    "#                  color='r',\n",
    "#                  marker=\"o\",\n",
    "#                  ax=ax2)\n",
    "#     plt.xlabel('Total [Baht]')\n",
    "#     plt.ylabel('Month')\n",
    "#     plt.title('Total Graph')\n",
    "#     plt.show()\n",
    "#     sns.set()"
   ]
  },
  {
   "cell_type": "code",
   "execution_count": null,
   "metadata": {},
   "outputs": [],
   "source": [
    "data_visualization(month_name, all_total)"
   ]
  },
  {
   "cell_type": "markdown",
   "metadata": {},
   "source": [
    "# Suggestion"
   ]
  },
  {
   "cell_type": "code",
   "execution_count": null,
   "metadata": {},
   "outputs": [],
   "source": [
    "y = open('suggestion.txt','w')\n",
    "z = input('suggestionะ: ')\n",
    "y.write('suggestion: '+str(z))\n",
    "y.close()"
   ]
  },
  {
   "cell_type": "code",
   "execution_count": null,
   "metadata": {},
   "outputs": [],
   "source": []
  }
 ],
 "metadata": {
  "kernelspec": {
   "display_name": "Python 3",
   "language": "python",
   "name": "python3"
  },
  "language_info": {
   "codemirror_mode": {
    "name": "ipython",
    "version": 3
   },
   "file_extension": ".py",
   "mimetype": "text/x-python",
   "name": "python",
   "nbconvert_exporter": "python",
   "pygments_lexer": "ipython3",
   "version": "3.7.4"
  }
 },
 "nbformat": 4,
 "nbformat_minor": 4
}
