{
 "cells": [
  {
   "cell_type": "markdown",
   "metadata": {},
   "source": [
    "# Members"
   ]
  },
  {
   "cell_type": "code",
   "execution_count": 12,
   "metadata": {},
   "outputs": [],
   "source": [
    "x = open('members.txt','w')\n",
    "x.write('จัดทำโดย นักเรียนชั้น ม.4/3\\n\\nนายธัญชนก วัตถาภรณ์ศิริ (6)\\nนายวรันธร จันทร์สว่าง (9)\\nนางสาวปาณิศา จิรถาวรกุล (20)')\n",
    "x.close()"
   ]
  },
  {
   "cell_type": "code",
   "execution_count": 13,
   "metadata": {},
   "outputs": [
    {
     "name": "stdin",
     "output_type": "stream",
     "text": [
      "ข้อเสนอแนะ:  ef\n"
     ]
    }
   ],
   "source": [
    "y = open('ข้อเสนอแนะ.txt','w')\n",
    "z = input('ข้อเสนอแนะ: ')\n",
    "y.write('ข้อเสนอแนะ: '+str(z))\n",
    "y.close()"
   ]
  },
  {
   "cell_type": "markdown",
   "metadata": {},
   "source": [
    "# Import Libraries"
   ]
  },
  {
   "cell_type": "code",
   "execution_count": 1,
   "metadata": {},
   "outputs": [],
   "source": [
    "import numpy as np\n",
    "import matplotlib.pyplot as plt\n",
    "import seaborn as sns"
   ]
  },
  {
   "cell_type": "markdown",
   "metadata": {},
   "source": [
    "# Month List"
   ]
  },
  {
   "cell_type": "code",
   "execution_count": 2,
   "metadata": {},
   "outputs": [],
   "source": [
    "jan_list = []\n",
    "feb_list = []\n",
    "mar_list = []\n",
    "apr_list = []\n",
    "may_list = []\n",
    "jun_list = []\n",
    "jul_list = []\n",
    "aug_list = []\n",
    "sep_list = []\n",
    "oct_list = []\n",
    "nov_list = []\n",
    "dec_list = []"
   ]
  },
  {
   "cell_type": "markdown",
   "metadata": {},
   "source": [
    "# Class"
   ]
  },
  {
   "cell_type": "code",
   "execution_count": 3,
   "metadata": {},
   "outputs": [],
   "source": [
    "class AllFunction:\n",
    "    def __init__(self, month_list):\n",
    "        self.month = month_list\n",
    " \n",
    "# Total Function\n",
    "    def func_total(month_list):\n",
    "        income_list = []\n",
    "        while True:\n",
    "            income = float(input('รายรับ: '))\n",
    "            income_list.append(income)\n",
    "            if income == 0:\n",
    "                break\n",
    "        print('รายรับทั้งหมด',sum(income_list), 'บาท')\n",
    "        month_list.append(sum(income_list))\n",
    "   \n",
    "        expense_list = []\n",
    "        while True:\n",
    "            expense = float(input('รายจ่าย: '))\n",
    "            expense.append(expense)\n",
    "            if expense == 0:\n",
    "                break\n",
    "        print('รายจ่ายทั้งหมด' ,sum(expense_list), 'บาท')\n",
    "        ans = np.subtract(sum(month_list), sum(expense_list))\n",
    "        \n",
    "        print('คงเหลือ', ans, 'บาท')\n",
    "        return ans"
   ]
  },
  {
   "cell_type": "code",
   "execution_count": 4,
   "metadata": {},
   "outputs": [
    {
     "name": "stdout",
     "output_type": "stream",
     "text": [
      "Jan\n"
     ]
    },
    {
     "name": "stdin",
     "output_type": "stream",
     "text": [
      "รายรับ:  100\n",
      "รายรับ:  0\n"
     ]
    },
    {
     "name": "stdout",
     "output_type": "stream",
     "text": [
      "รายรับทั้งหมด 100.0 บาท\n"
     ]
    },
    {
     "name": "stdin",
     "output_type": "stream",
     "text": [
      "รายจ่าย:  30\n",
      "รายจ่าย:  0\n"
     ]
    },
    {
     "name": "stdout",
     "output_type": "stream",
     "text": [
      "รายจ่ายทั้งหมด 30.0 บาท\n",
      "คงเหลือ 70.0 บาท\n",
      "\n",
      "Feb\n"
     ]
    },
    {
     "name": "stdin",
     "output_type": "stream",
     "text": [
      "รายรับ:  100\n",
      "รายรับ:  0\n"
     ]
    },
    {
     "name": "stdout",
     "output_type": "stream",
     "text": [
      "รายรับทั้งหมด 100.0 บาท\n"
     ]
    },
    {
     "name": "stdin",
     "output_type": "stream",
     "text": [
      "รายจ่าย:  30\n",
      "รายจ่าย:  0\n"
     ]
    },
    {
     "name": "stdout",
     "output_type": "stream",
     "text": [
      "รายจ่ายทั้งหมด 30.0 บาท\n",
      "คงเหลือ 70.0 บาท\n",
      "\n",
      "Mar\n"
     ]
    },
    {
     "name": "stdin",
     "output_type": "stream",
     "text": [
      "รายรับ:  100\n",
      "รายรับ:  20\n",
      "รายรับ:  0\n"
     ]
    },
    {
     "name": "stdout",
     "output_type": "stream",
     "text": [
      "รายรับทั้งหมด 120.0 บาท\n"
     ]
    },
    {
     "name": "stdin",
     "output_type": "stream",
     "text": [
      "รายจ่าย:  20\n",
      "รายจ่าย:  0\n"
     ]
    },
    {
     "name": "stdout",
     "output_type": "stream",
     "text": [
      "รายจ่ายทั้งหมด 20.0 บาท\n",
      "คงเหลือ 100.0 บาท\n",
      "\n",
      "Apr\n"
     ]
    },
    {
     "name": "stdin",
     "output_type": "stream",
     "text": [
      "รายรับ:  100\n",
      "รายรับ:  0\n"
     ]
    },
    {
     "name": "stdout",
     "output_type": "stream",
     "text": [
      "รายรับทั้งหมด 100.0 บาท\n"
     ]
    },
    {
     "name": "stdin",
     "output_type": "stream",
     "text": [
      "รายจ่าย:  10\n",
      "รายจ่าย:  0\n"
     ]
    },
    {
     "name": "stdout",
     "output_type": "stream",
     "text": [
      "รายจ่ายทั้งหมด 10.0 บาท\n",
      "คงเหลือ 90.0 บาท\n",
      "\n",
      "May\n"
     ]
    },
    {
     "name": "stdin",
     "output_type": "stream",
     "text": [
      "รายรับ:  100\n",
      "รายรับ:  0\n"
     ]
    },
    {
     "name": "stdout",
     "output_type": "stream",
     "text": [
      "รายรับทั้งหมด 100.0 บาท\n"
     ]
    },
    {
     "name": "stdin",
     "output_type": "stream",
     "text": [
      "รายจ่าย:  49\n",
      "รายจ่าย:  0\n"
     ]
    },
    {
     "name": "stdout",
     "output_type": "stream",
     "text": [
      "รายจ่ายทั้งหมด 49.0 บาท\n",
      "คงเหลือ 51.0 บาท\n",
      "\n",
      "Jun\n"
     ]
    },
    {
     "name": "stdin",
     "output_type": "stream",
     "text": [
      "รายรับ:  100\n",
      "รายรับ:  0\n"
     ]
    },
    {
     "name": "stdout",
     "output_type": "stream",
     "text": [
      "รายรับทั้งหมด 100.0 บาท\n"
     ]
    },
    {
     "name": "stdin",
     "output_type": "stream",
     "text": [
      "รายจ่าย:  40\n",
      "รายจ่าย:  0\n"
     ]
    },
    {
     "name": "stdout",
     "output_type": "stream",
     "text": [
      "รายจ่ายทั้งหมด 40.0 บาท\n",
      "คงเหลือ 60.0 บาท\n",
      "\n",
      "Jul\n"
     ]
    },
    {
     "name": "stdin",
     "output_type": "stream",
     "text": [
      "รายรับ:  100\n",
      "รายรับ:  35\n",
      "รายรับ:  0\n"
     ]
    },
    {
     "name": "stdout",
     "output_type": "stream",
     "text": [
      "รายรับทั้งหมด 135.0 บาท\n"
     ]
    },
    {
     "name": "stdin",
     "output_type": "stream",
     "text": [
      "รายจ่าย:  24\n",
      "รายจ่าย:  0\n"
     ]
    },
    {
     "name": "stdout",
     "output_type": "stream",
     "text": [
      "รายจ่ายทั้งหมด 24.0 บาท\n",
      "คงเหลือ 111.0 บาท\n",
      "\n",
      "Aug\n"
     ]
    },
    {
     "name": "stdin",
     "output_type": "stream",
     "text": [
      "รายรับ:  100\n",
      "รายรับ:  0\n"
     ]
    },
    {
     "name": "stdout",
     "output_type": "stream",
     "text": [
      "รายรับทั้งหมด 100.0 บาท\n"
     ]
    },
    {
     "name": "stdin",
     "output_type": "stream",
     "text": [
      "รายจ่าย:  36\n",
      "รายจ่าย:  0\n"
     ]
    },
    {
     "name": "stdout",
     "output_type": "stream",
     "text": [
      "รายจ่ายทั้งหมด 36.0 บาท\n",
      "คงเหลือ 64.0 บาท\n",
      "\n",
      "Sep\n"
     ]
    },
    {
     "name": "stdin",
     "output_type": "stream",
     "text": [
      "รายรับ:  100\n",
      "รายรับ:  0\n"
     ]
    },
    {
     "name": "stdout",
     "output_type": "stream",
     "text": [
      "รายรับทั้งหมด 100.0 บาท\n"
     ]
    },
    {
     "name": "stdin",
     "output_type": "stream",
     "text": [
      "รายจ่าย:  56\n",
      "รายจ่าย:  0\n"
     ]
    },
    {
     "name": "stdout",
     "output_type": "stream",
     "text": [
      "รายจ่ายทั้งหมด 56.0 บาท\n",
      "คงเหลือ 44.0 บาท\n",
      "\n",
      "Oct\n"
     ]
    },
    {
     "name": "stdin",
     "output_type": "stream",
     "text": [
      "รายรับ:  100\n",
      "รายรับ:  0\n"
     ]
    },
    {
     "name": "stdout",
     "output_type": "stream",
     "text": [
      "รายรับทั้งหมด 100.0 บาท\n"
     ]
    },
    {
     "name": "stdin",
     "output_type": "stream",
     "text": [
      "รายจ่าย:  50\n",
      "รายจ่าย:  0\n"
     ]
    },
    {
     "name": "stdout",
     "output_type": "stream",
     "text": [
      "รายจ่ายทั้งหมด 50.0 บาท\n",
      "คงเหลือ 50.0 บาท\n",
      "\n",
      "Nov\n"
     ]
    },
    {
     "name": "stdin",
     "output_type": "stream",
     "text": [
      "รายรับ:  100\n",
      "รายรับ:  0\n"
     ]
    },
    {
     "name": "stdout",
     "output_type": "stream",
     "text": [
      "รายรับทั้งหมด 100.0 บาท\n"
     ]
    },
    {
     "name": "stdin",
     "output_type": "stream",
     "text": [
      "รายจ่าย:  50\n",
      "รายจ่าย:  0\n"
     ]
    },
    {
     "name": "stdout",
     "output_type": "stream",
     "text": [
      "รายจ่ายทั้งหมด 50.0 บาท\n",
      "คงเหลือ 50.0 บาท\n",
      "\n",
      "Dec\n"
     ]
    },
    {
     "name": "stdin",
     "output_type": "stream",
     "text": [
      "รายรับ:  100\n",
      "รายรับ:  0\n"
     ]
    },
    {
     "name": "stdout",
     "output_type": "stream",
     "text": [
      "รายรับทั้งหมด 100.0 บาท\n"
     ]
    },
    {
     "name": "stdin",
     "output_type": "stream",
     "text": [
      "รายจ่าย:  70\n",
      "รายจ่าย:  0\n"
     ]
    },
    {
     "name": "stdout",
     "output_type": "stream",
     "text": [
      "รายจ่ายทั้งหมด 70.0 บาท\n",
      "คงเหลือ 30.0 บาท\n"
     ]
    }
   ],
   "source": [
    "print('Jan')\n",
    "jan_total = AllFunction.func_total(jan_list)\n",
    "print('')\n",
    "print('Feb')\n",
    "feb_total = AllFunction.func_total(feb_list)\n",
    "print('')\n",
    "print('Mar')\n",
    "mar_total = AllFunction.func_total(mar_list)\n",
    "print('')\n",
    "print('Apr')\n",
    "apr_total = AllFunction.func_total(apr_list)\n",
    "print('')\n",
    "print('May')\n",
    "may_total = AllFunction.func_total(may_list)\n",
    "print('')\n",
    "print('Jun')\n",
    "jun_total = AllFunction.func_total(jun_list)\n",
    "print('')\n",
    "print('Jul')\n",
    "jul_total = AllFunction.func_total(jul_list)\n",
    "print('')\n",
    "print('Aug')\n",
    "aug_total = AllFunction.func_total(aug_list)\n",
    "print('')\n",
    "print('Sep')\n",
    "sep_total = AllFunction.func_total(sep_list)\n",
    "print('')\n",
    "print('Oct')\n",
    "oct_total = AllFunction.func_total(oct_list)\n",
    "print('')\n",
    "print('Nov')\n",
    "nov_total = AllFunction.func_total(nov_list)\n",
    "print('')\n",
    "print('Dec')\n",
    "dec_total = AllFunction.func_total(dec_list)"
   ]
  },
  {
   "cell_type": "code",
   "execution_count": 5,
   "metadata": {},
   "outputs": [],
   "source": [
    "month_name = ['Jan', 'Feb', 'Mar', 'Apr', 'May', 'Jun', 'Jul',' Aug', 'Sep', 'Oct', 'Nov', 'Dec']"
   ]
  },
  {
   "cell_type": "code",
   "execution_count": 6,
   "metadata": {},
   "outputs": [],
   "source": [
    "all_total = [jan_total, feb_total, mar_total, apr_total, may_total, jun_total, jul_total, aug_total, sep_total, oct_total, nov_total, dec_total]"
   ]
  },
  {
   "cell_type": "code",
   "execution_count": 10,
   "metadata": {},
   "outputs": [],
   "source": [
    "#print(all_total)"
   ]
  },
  {
   "cell_type": "markdown",
   "metadata": {},
   "source": [
    "# Data Visualization"
   ]
  },
  {
   "cell_type": "code",
   "execution_count": 9,
   "metadata": {},
   "outputs": [
    {
     "data": {
      "image/png": "[encoded data removed]",
      "text/plain": [
       "<Figure size 720x720 with 2 Axes>"
      ]
     },
     "metadata": {},
     "output_type": "display_data"
    }
   ],
   "source": [
    "sns.set(style=\"white\", rc={\"lines.linewidth\": 3})\n",
    "fig, ax1 = plt.subplots(figsize=(10,10))\n",
    "ax2 = ax1.twinx()\n",
    "sns.barplot(x=month_name,\n",
    "            y=all_total, \n",
    "            color='#004488',\n",
    "            ax=ax1)\n",
    "sns.lineplot(x=month_name, \n",
    "             y=all_total,\n",
    "             color='r',\n",
    "             marker=\"o\",\n",
    "             ax=ax2)\n",
    "plt.show()\n",
    "sns.set()\n",
    "plt."
   ]
  },
  {
   "cell_type": "code",
   "execution_count": null,
   "metadata": {},
   "outputs": [],
   "source": []
  }
 ],
 "metadata": {
  "kernelspec": {
   "display_name": "Python 3",
   "language": "python",
   "name": "python3"
  },
  "language_info": {
   "codemirror_mode": {
    "name": "ipython",
    "version": 3
   },
   "file_extension": ".py",
   "mimetype": "text/x-python",
   "name": "python",
   "nbconvert_exporter": "python",
   "pygments_lexer": "ipython3",
   "version": "3.7.4"
  }
 },
 "nbformat": 4,
 "nbformat_minor": 4
}
